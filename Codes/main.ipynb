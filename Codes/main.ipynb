{
 "cells": [
  {
   "cell_type": "code",
   "execution_count": 6,
   "id": "85058ac3",
   "metadata": {},
   "outputs": [
    {
     "name": "stdout",
     "output_type": "stream",
     "text": [
      "Dataset loaded successfully!\n",
      "Total samples: 984\n",
      "Feature shape: (984, 4096)\n",
      "Example label: ب\n"
     ]
    }
   ],
   "source": [
    "import os\n",
    "import cv2\n",
    "import numpy as np\n",
    "\n",
    "# Path to your dataset folder\n",
    "DATASET_DIR = \"../Dataset\"   \n",
    "\n",
    "images = []\n",
    "labels = []\n",
    "\n",
    "# Loop through each folder (each Urdu letter)\n",
    "for folder in os.listdir(DATASET_DIR):\n",
    "    folder_path = os.path.join(DATASET_DIR, folder)\n",
    "    \n",
    "    # Ensure it's a folder (not any hidden file)\n",
    "    if not os.path.isdir(folder_path):\n",
    "        continue\n",
    "    \n",
    "    # Loop through all images inside this folder\n",
    "    for img_file in os.listdir(folder_path):\n",
    "        img_path = os.path.join(folder_path, img_file)\n",
    "        \n",
    "        # Read the image in grayscale\n",
    "        img = cv2.imread(img_path, cv2.IMREAD_GRAYSCALE)\n",
    "        if img is None:\n",
    "            continue  # skip unreadable files\n",
    "        \n",
    "        # Resize to 64x64\n",
    "        img = cv2.resize(img, (64, 64))\n",
    "        \n",
    "        # Normalize (0–1)\n",
    "        img = img / 255.0\n",
    "        \n",
    "        # Flatten image for ML\n",
    "        img_flat = img.flatten()\n",
    "        \n",
    "        # Add to lists\n",
    "        images.append(img_flat)\n",
    "        labels.append(folder)  # use folder name (Urdu letter) as label\n",
    "\n",
    "# Convert to NumPy arrays\n",
    "X = np.array(images)\n",
    "y = np.array(labels)\n",
    "\n",
    "print(\"Dataset loaded successfully!\")\n",
    "print(\"Total samples:\", len(X))\n",
    "print(\"Feature shape:\", X.shape)\n",
    "print(\"Example label:\", y[0])\n"
   ]
  },
  {
   "cell_type": "code",
   "execution_count": null,
   "id": "761da858",
   "metadata": {},
   "outputs": [],
   "source": [
    "import os\n",
    "\n",
    "folder = \"../Dataset/ا\"\n",
    "for i, file in enumerate(os.listdir(folder), start=1):\n",
    "    ext = file.split('.')[-1]\n",
    "    os.rename(os.path.join(folder, file), os.path.join(folder, f\"{i}.{ext}\"))\n"
   ]
  }
 ],
 "metadata": {
  "kernelspec": {
   "display_name": "Python 3",
   "language": "python",
   "name": "python3"
  },
  "language_info": {
   "codemirror_mode": {
    "name": "ipython",
    "version": 3
   },
   "file_extension": ".py",
   "mimetype": "text/x-python",
   "name": "python",
   "nbconvert_exporter": "python",
   "pygments_lexer": "ipython3",
   "version": "3.14.0"
  }
 },
 "nbformat": 4,
 "nbformat_minor": 5
}
