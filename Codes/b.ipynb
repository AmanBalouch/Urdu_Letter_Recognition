{
 "cells": [
  {
   "cell_type": "markdown",
   "id": "90c2497f",
   "metadata": {},
   "source": [
    "#### Renaming Images in Dataset e.g.,1.ا.jpeg"
   ]
  },
  {
   "cell_type": "code",
   "execution_count": 11,
   "id": "65f98eae",
   "metadata": {},
   "outputs": [
    {
     "name": "stdout",
     "output_type": "stream",
     "text": [
      "✅ Safely renamed all files in: ب\n",
      "✅ Safely renamed all files in: د\n",
      "✅ Safely renamed all files in: ی\n",
      "✅ Safely renamed all files in: ن\n",
      "✅ Safely renamed all files in: س\n",
      "✅ Safely renamed all files in: ف\n",
      "✅ Safely renamed all files in: ش\n",
      "✅ Safely renamed all files in: و\n",
      "✅ Safely renamed all files in: غ\n",
      "✅ Safely renamed all files in: چ\n",
      "✅ Safely renamed all files in: ا\n",
      "✅ Safely renamed all files in: خ\n",
      "✅ Safely renamed all files in: ڈ\n",
      "✅ Safely renamed all files in: ٹ\n",
      "✅ Safely renamed all files in: ص\n",
      "✅ Safely renamed all files in: پ\n",
      "✅ Safely renamed all files in: گ\n",
      "✅ Safely renamed all files in: ط\n",
      "✅ Safely renamed all files in: م\n",
      "✅ Safely renamed all files in: ڑ\n",
      "✅ Safely renamed all files in: ذ\n",
      "✅ Safely renamed all files in: ع\n",
      "✅ Safely renamed all files in: ژ\n",
      "✅ Safely renamed all files in: ج\n",
      "✅ Safely renamed all files in: ث\n",
      "✅ Safely renamed all files in: ے\n",
      "✅ Safely renamed all files in: ظ\n",
      "✅ Safely renamed all files in: ل\n",
      "✅ Safely renamed all files in: ر\n",
      "✅ Safely renamed all files in: ک\n",
      "✅ Safely renamed all files in: ض\n",
      "✅ Safely renamed all files in: ت\n",
      "✅ Safely renamed all files in: ح\n"
     ]
    }
   ],
   "source": [
    "import os\n",
    "import uuid\n",
    "\n",
    "base_folder = \"../Dataset\"\n",
    "\n",
    "for folder_name in os.listdir(base_folder):\n",
    "    folder_path = os.path.join(base_folder, folder_name)\n",
    "    \n",
    "    if not os.path.isdir(folder_path):\n",
    "        continue\n",
    "    \n",
    "    # Step 1: List all files (skip hidden files) and sort\n",
    "    files = sorted([f for f in os.listdir(folder_path) if not f.startswith('.')])\n",
    "    \n",
    "    temp_mapping = []\n",
    "    # Step 2: Rename to temporary unique names first\n",
    "    for file in files:\n",
    "        old_path = os.path.join(folder_path, file)\n",
    "        orig_ext = os.path.splitext(file)[1]  # get original extension (.jpg, .png, etc.)\n",
    "        temp_name = f\"temp_{uuid.uuid4().hex}{orig_ext}\"  # keep original extension\n",
    "        temp_path = os.path.join(folder_path, temp_name)\n",
    "        os.rename(old_path, temp_path)\n",
    "        temp_mapping.append((temp_name, orig_ext))\n",
    "    \n",
    "    # Step 3: Rename temporary files to final safe names\n",
    "    for i, (temp_file, ext) in enumerate(temp_mapping, start=1):\n",
    "        final_name = f\"{i}.{folder_name}{ext}\"\n",
    "        temp_path = os.path.join(folder_path, temp_file)\n",
    "        final_path = os.path.join(folder_path, final_name)\n",
    "        os.rename(temp_path, final_path)\n",
    "    \n",
    "    print(f\"✅ Safely renamed all files in: {folder_name}\")\n"
   ]
  },
  {
   "cell_type": "markdown",
   "id": "288f7b7c",
   "metadata": {},
   "source": [
    "#### Import Libraries"
   ]
  },
  {
   "cell_type": "code",
   "execution_count": 2,
   "id": "9ce53244",
   "metadata": {},
   "outputs": [
    {
     "name": "stdout",
     "output_type": "stream",
     "text": [
      "✅ All libraries imported successfully!\n"
     ]
    }
   ],
   "source": [
    "import os\n",
    "import cv2\n",
    "import numpy as np\n",
    "import pandas as pd\n",
    "from skimage.feature import hog\n",
    "from sklearn.model_selection import train_test_split, GridSearchCV\n",
    "from sklearn.preprocessing import LabelEncoder, StandardScaler\n",
    "from sklearn.svm import SVC\n",
    "from sklearn.neural_network import MLPClassifier\n",
    "from sklearn.metrics import accuracy_score, classification_report, confusion_matrix\n",
    "import matplotlib.pyplot as plt\n",
    "import seaborn as sns\n",
    "import joblib\n",
    "from tqdm import tqdm\n",
    "import warnings\n",
    "warnings.filterwarnings('ignore')\n",
    "print(\"✅ All libraries imported successfully!\")"
   ]
  },
  {
   "cell_type": "markdown",
   "id": "d2fbf4cd",
   "metadata": {},
   "source": [
    "#### Configuration and Path Setup"
   ]
  },
  {
   "cell_type": "code",
   "execution_count": 3,
   "id": "bdcba8ac",
   "metadata": {},
   "outputs": [
    {
     "name": "stdout",
     "output_type": "stream",
     "text": [
      "📁 Project Structure:\n",
      "Dataset Path: ../Dataset\n",
      "Preprocessed Path: ../Preprocessed\n",
      "Augmented Path: ../Augmented_Dataset\n",
      "Models Path: ../models\n"
     ]
    }
   ],
   "source": [
    "BASE_PATH = \"../\"\n",
    "DATASET_PATH = os.path.join(BASE_PATH, \"Dataset\")\n",
    "PREPROCESSED_PATH = os.path.join(BASE_PATH, \"Preprocessed\")\n",
    "AUGMENTED_PATH = os.path.join(BASE_PATH, \"Augmented_Dataset\")\n",
    "MODELS_PATH = os.path.join(BASE_PATH, \"models\")\n",
    "\n",
    "print(\"📁 Project Structure:\")\n",
    "print(f\"Dataset Path: {DATASET_PATH}\")\n",
    "print(f\"Preprocessed Path: {PREPROCESSED_PATH}\")\n",
    "print(f\"Augmented Path: {AUGMENTED_PATH}\")\n",
    "print(f\"Models Path: {MODELS_PATH}\")"
   ]
  },
  {
   "cell_type": "markdown",
   "id": "d01e32a5",
   "metadata": {},
   "source": [
    "#### Image Preprocessing Function"
   ]
  },
  {
   "cell_type": "code",
   "execution_count": 4,
   "id": "0cbe9e45",
   "metadata": {},
   "outputs": [],
   "source": [
    "def preprocess_image(img, save_path=None):\n",
    "    \"\"\"\n",
    "    Preprocess image: resize, threshold, and save if path provided\n",
    "    \"\"\"\n",
    "    # Resize to 128x128\n",
    "    img_resized = cv2.resize(img, (128, 128))\n",
    "    \n",
    "    # Apply binary threshold with Otsu\n",
    "    _, img_binary = cv2.threshold(img_resized, 0, 255, cv2.THRESH_BINARY_INV + cv2.THRESH_OTSU)\n",
    "    \n",
    "    # Save if path provided\n",
    "    if save_path:\n",
    "        cv2.imwrite(save_path, img_binary)\n",
    "    \n",
    "    return img_binary\n"
   ]
  },
  {
   "cell_type": "markdown",
   "id": "85e03ea2",
   "metadata": {},
   "source": [
    "#### Data Augmentation Function (5 copies per image)"
   ]
  },
  {
   "cell_type": "code",
   "execution_count": 5,
   "id": "918e44fc",
   "metadata": {},
   "outputs": [],
   "source": [
    "def augment_image(img, augment_count=5):\n",
    "    \"\"\"\n",
    "    Create 5 augmented copies of the image\n",
    "    \"\"\"\n",
    "    augmented_images = []\n",
    "    rows, cols = img.shape\n",
    "    \n",
    "    # Define augmentation techniques\n",
    "    augmentations = []\n",
    "    \n",
    "    # Original image (first copy)\n",
    "    augmented_images.append(img)\n",
    "    \n",
    "    # Rotations (2 copies)\n",
    "    for angle in [-10, 10]:\n",
    "        M = cv2.getRotationMatrix2D((cols/2, rows/2), angle, 1)\n",
    "        rotated = cv2.warpAffine(img, M, (cols, rows), borderMode=cv2.BORDER_CONSTANT, borderValue=0)\n",
    "        augmented_images.append(rotated)\n",
    "    \n",
    "    # Translations (2 copies)\n",
    "    for dx, dy in [(-3, -3), (3, 3)]:\n",
    "        M = np.float32([[1, 0, dx], [0, 1, dy]])\n",
    "        translated = cv2.warpAffine(img, M, (cols, rows), borderMode=cv2.BORDER_CONSTANT, borderValue=0)\n",
    "        augmented_images.append(translated)\n",
    "    \n",
    "    # If we need more augmentations, add scaling\n",
    "    if len(augmented_images) < augment_count:\n",
    "        # Scaling\n",
    "        scale_factor = 0.9\n",
    "        scaled = cv2.resize(img, None, fx=scale_factor, fy=scale_factor)\n",
    "        # Pad to original size\n",
    "        pad_x = (cols - scaled.shape[1]) // 2\n",
    "        pad_y = (rows - scaled.shape[0]) // 2\n",
    "        scaled_padded = cv2.copyMakeBorder(scaled, pad_y, pad_y, pad_x, pad_x, \n",
    "                                         cv2.BORDER_CONSTANT, value=0)\n",
    "        augmented_images.append(scaled_padded)\n",
    "    \n",
    "    # Ensure we have exactly 5 copies\n",
    "    return augmented_images[:augment_count]"
   ]
  },
  {
   "cell_type": "markdown",
   "id": "2aeeb059",
   "metadata": {},
   "source": [
    "#### Process All Images (Preprocessing + Augmentation)"
   ]
  },
  {
   "cell_type": "code",
   "execution_count": 6,
   "id": "077777da",
   "metadata": {},
   "outputs": [],
   "source": [
    "def process_all_images():\n",
    "    \"\"\"\n",
    "    Process all images: preprocess + create 5 augmented copies\n",
    "    Returns features and labels for training\n",
    "    \"\"\"\n",
    "    data = []\n",
    "    labels = []\n",
    "    valid_extensions = ('.jpg', '.jpeg', '.png', '.bmp', '.tiff')\n",
    "    \n",
    "    print(\"🔄 Starting image processing and augmentation...\")\n",
    "    \n",
    "    # Count total images for progress bar\n",
    "    total_images = 0\n",
    "    for folder in os.listdir(DATASET_PATH):\n",
    "        folder_path = os.path.join(DATASET_PATH, folder)\n",
    "        if os.path.isdir(folder_path):\n",
    "            for img_name in os.listdir(folder_path):\n",
    "                if img_name.lower().endswith(valid_extensions):\n",
    "                    total_images += 1\n",
    "    \n",
    "    print(f\"📊 Total images found: {total_images}\")\n",
    "    \n",
    "    # Process each image\n",
    "    processed_count = 0\n",
    "    for folder in os.listdir(DATASET_PATH):\n",
    "        folder_path = os.path.join(DATASET_PATH, folder)\n",
    "        if not os.path.isdir(folder_path):\n",
    "            continue\n",
    "        \n",
    "        print(f\"📁 Processing class: {folder}\")\n",
    "        \n",
    "        # Create directories for preprocessed and augmented images\n",
    "        preprocessed_class_path = os.path.join(PREPROCESSED_PATH, folder)\n",
    "        augmented_class_path = os.path.join(AUGMENTED_PATH, folder)\n",
    "        os.makedirs(preprocessed_class_path, exist_ok=True)\n",
    "        os.makedirs(augmented_class_path, exist_ok=True)\n",
    "        \n",
    "        for img_name in os.listdir(folder_path):\n",
    "            if not img_name.lower().endswith(valid_extensions):\n",
    "                continue\n",
    "            \n",
    "            img_path = os.path.join(folder_path, img_name)\n",
    "            img = cv2.imread(img_path, cv2.IMREAD_GRAYSCALE)\n",
    "            \n",
    "            if img is None:\n",
    "                print(f\"❌ Skipped invalid image: {img_path}\")\n",
    "                continue\n",
    "            \n",
    "            # Preprocess image\n",
    "            base_name = os.path.splitext(img_name)[0]\n",
    "            preprocessed_path = os.path.join(preprocessed_class_path, f\"{base_name}_preprocessed.jpg\")\n",
    "            preprocessed_img = preprocess_image(img, preprocessed_path)\n",
    "            \n",
    "            # Create augmented images (5 copies)\n",
    "            augmented_images = augment_image(preprocessed_img, 5)\n",
    "            \n",
    "            # Process each augmented image\n",
    "            for i, aug_img in enumerate(augmented_images):\n",
    "                # Save augmented image\n",
    "                aug_save_path = os.path.join(augmented_class_path, f\"{base_name}_aug_{i+1}.jpg\")\n",
    "                cv2.imwrite(aug_save_path, aug_img)\n",
    "                \n",
    "                # Extract HOG features\n",
    "                try:\n",
    "                    features = hog(aug_img, \n",
    "                                 orientations=12, \n",
    "                                 pixels_per_cell=(8, 8), \n",
    "                                 cells_per_block=(2, 2), \n",
    "                                 block_norm='L2-Hys',\n",
    "                                 feature_vector=True)\n",
    "                    data.append(features)\n",
    "                    labels.append(folder)\n",
    "                except Exception as e:\n",
    "                    print(f\"❌ Error extracting features from {aug_save_path}: {e}\")\n",
    "                    continue\n",
    "            \n",
    "            processed_count += 1\n",
    "            if processed_count % 50 == 0:\n",
    "                print(f\"✅ Processed {processed_count}/{total_images} images\")\n",
    "    \n",
    "    print(f\"🎉 Image processing complete! Total processed: {processed_count}\")\n",
    "    print(f\"📊 Total samples after augmentation: {len(data)}\")\n",
    "    \n",
    "    return np.array(data), np.array(labels)"
   ]
  },
  {
   "cell_type": "markdown",
   "id": "5c8c16da",
   "metadata": {},
   "source": [
    "####  Execute Image Processing"
   ]
  },
  {
   "cell_type": "code",
   "execution_count": 7,
   "id": "3179c624",
   "metadata": {},
   "outputs": [
    {
     "name": "stdout",
     "output_type": "stream",
     "text": [
      "🚀 Starting complete image processing pipeline...\n",
      "🔄 Starting image processing and augmentation...\n",
      "📊 Total images found: 1020\n",
      "📁 Processing class: ب\n",
      "📁 Processing class: د\n",
      "✅ Processed 50/1020 images\n",
      "📁 Processing class: ی\n",
      "📁 Processing class: ن\n",
      "✅ Processed 100/1020 images\n",
      "📁 Processing class: س\n",
      "✅ Processed 150/1020 images\n",
      "📁 Processing class: ف\n",
      "📁 Processing class: ش\n",
      "✅ Processed 200/1020 images\n",
      "📁 Processing class: و\n",
      "📁 Processing class: غ\n",
      "✅ Processed 250/1020 images\n",
      "📁 Processing class: چ\n",
      "✅ Processed 300/1020 images\n",
      "📁 Processing class: ا\n",
      "📁 Processing class: خ\n",
      "✅ Processed 350/1020 images\n",
      "📁 Processing class: ڈ\n",
      "✅ Processed 400/1020 images\n",
      "📁 Processing class: ٹ\n",
      "📁 Processing class: ص\n",
      "✅ Processed 450/1020 images\n",
      "📁 Processing class: پ\n",
      "📁 Processing class: گ\n",
      "✅ Processed 500/1020 images\n",
      "📁 Processing class: ط\n",
      "✅ Processed 550/1020 images\n",
      "📁 Processing class: م\n",
      "📁 Processing class: ڑ\n",
      "✅ Processed 600/1020 images\n",
      "📁 Processing class: ذ\n",
      "📁 Processing class: ع\n",
      "✅ Processed 650/1020 images\n",
      "📁 Processing class: ژ\n",
      "✅ Processed 700/1020 images\n",
      "📁 Processing class: ج\n",
      "📁 Processing class: ث\n",
      "✅ Processed 750/1020 images\n",
      "📁 Processing class: ے\n",
      "✅ Processed 800/1020 images\n",
      "📁 Processing class: ظ\n",
      "📁 Processing class: ل\n",
      "✅ Processed 850/1020 images\n",
      "📁 Processing class: ر\n",
      "📁 Processing class: ک\n",
      "✅ Processed 900/1020 images\n",
      "📁 Processing class: ض\n",
      "✅ Processed 950/1020 images\n",
      "📁 Processing class: ت\n",
      "📁 Processing class: ح\n",
      "✅ Processed 1000/1020 images\n",
      "🎉 Image processing complete! Total processed: 1020\n",
      "📊 Total samples after augmentation: 5100\n",
      "📦 Final dataset shape: (5100, 10800)\n",
      "🎯 Number of classes: 33\n"
     ]
    }
   ],
   "source": [
    "print(\"🚀 Starting complete image processing pipeline...\")\n",
    "X, y = process_all_images()\n",
    "\n",
    "print(f\"📦 Final dataset shape: {X.shape}\")\n",
    "print(f\"🎯 Number of classes: {len(np.unique(y))}\")"
   ]
  },
  {
   "cell_type": "markdown",
   "id": "807bedbd",
   "metadata": {},
   "source": [
    " ##### Encode Labels and Split Data\n",
    " Encode string labels to numerical values"
   ]
  },
  {
   "cell_type": "code",
   "execution_count": 8,
   "id": "cf9f85cf",
   "metadata": {},
   "outputs": [
    {
     "name": "stdout",
     "output_type": "stream",
     "text": [
      "🔤 Class mapping:\n",
      "  ا -> 0.      ب -> 1.      ت -> 2.      ث -> 3.      ج -> 4.      ح -> 5.      خ -> 6.      د -> 7.      ذ -> 8.      ر -> 9.      س -> 10.      ش -> 11.      ص -> 12.      ض -> 13.      ط -> 14.      ظ -> 15.      ع -> 16.      غ -> 17.      ف -> 18.      ل -> 19.      م -> 20.      ن -> 21.      و -> 22.      ٹ -> 23.      پ -> 24.      چ -> 25.      ڈ -> 26.      ڑ -> 27.      ژ -> 28.      ک -> 29.      گ -> 30.      ی -> 31.      ے -> 32.    📊 Data split:\n",
      "  Training samples: 4080\n",
      "  Testing samples: 1020\n"
     ]
    }
   ],
   "source": [
    "encoder = LabelEncoder()\n",
    "y_encoded = encoder.fit_transform(y)\n",
    "\n",
    "print(\"🔤 Class mapping:\")\n",
    "for i, class_name in enumerate(encoder.classes_):\n",
    "    print(f\"  {class_name} -> {i}.    \",end=\"\")\n",
    "\n",
    "# Split data into training and testing sets\n",
    "X_train, X_test, y_train, y_test = train_test_split(\n",
    "    X, y_encoded, \n",
    "    test_size=0.2, \n",
    "    random_state=42, \n",
    "    stratify=y_encoded\n",
    ")\n",
    "\n",
    "print(f\"📊 Data split:\")\n",
    "print(f\"  Training samples: {X_train.shape[0]}\")\n",
    "print(f\"  Testing samples: {X_test.shape[0]}\")\n",
    "\n"
   ]
  },
  {
   "cell_type": "markdown",
   "id": "1fe2cca8",
   "metadata": {},
   "source": [
    "#### Feature Scaling"
   ]
  },
  {
   "cell_type": "code",
   "execution_count": 9,
   "id": "4e7ea9f4",
   "metadata": {},
   "outputs": [
    {
     "name": "stdout",
     "output_type": "stream",
     "text": [
      "✅ Feature scaling completed!\n"
     ]
    }
   ],
   "source": [
    "scaler = StandardScaler()\n",
    "X_train_scaled = scaler.fit_transform(X_train)\n",
    "X_test_scaled = scaler.transform(X_test)\n",
    "\n",
    "print(\"✅ Feature scaling completed!\")"
   ]
  },
  {
   "cell_type": "markdown",
   "id": "ae08a6fd",
   "metadata": {},
   "source": [
    "#### SVM Model Training"
   ]
  },
  {
   "cell_type": "code",
   "execution_count": 34,
   "id": "ad07e9ef",
   "metadata": {},
   "outputs": [
    {
     "name": "stdout",
     "output_type": "stream",
     "text": [
      "Best Parameters: {'C': 10, 'gamma': 'scale'}\n",
      "Train Accuracy: 1.0\n",
      "Test Accuracy: 0.7480392156862745\n",
      "Accuracy Gap: 0.2519607843137255\n"
     ]
    }
   ],
   "source": [
    "# ------------------- SVM + Hyperparameter Tuning -------------------\n",
    "param_grid = {\n",
    "    'C': [10, 100],\n",
    "    'gamma': ['scale', 0.001]\n",
    "}\n",
    "grid = GridSearchCV(SVC(kernel='rbf', class_weight='balanced'), param_grid, cv=3)\n",
    "grid.fit(X_train, y_train)\n",
    "\n",
    "print(\"Best Parameters:\", grid.best_params_)\n",
    "model = grid.best_estimator_\n",
    "\n",
    "# ------------------- Evaluation -------------------\n",
    "y_pred = model.predict(X_test)\n",
    "test_accuracy = accuracy_score(y_test, y_pred)\n",
    "train_accuracy = accuracy_score(y_train, model.predict(X_train))\n",
    "\n",
    "print(\"Train Accuracy:\", train_accuracy)\n",
    "print(\"Test Accuracy:\", test_accuracy)\n",
    "print(\"Accuracy Gap:\", train_accuracy - test_accuracy)"
   ]
  },
  {
   "cell_type": "markdown",
   "id": "48066827",
   "metadata": {},
   "source": [
    "#### Regularization to reduce overfitting"
   ]
  },
  {
   "cell_type": "code",
   "execution_count": 14,
   "id": "31e2f72f",
   "metadata": {},
   "outputs": [
    {
     "name": "stdout",
     "output_type": "stream",
     "text": [
      "Train Accuracy: 0.966421568627451\n",
      "Test Accuracy: 0.6715686274509803\n",
      "Accuracy Gap: 0.29485294117647065\n"
     ]
    }
   ],
   "source": [
    "# ------------------- SVM Training -------------------\n",
    "model = SVC(\n",
    "    C=1,           # More regularization\n",
    "    gamma='scale', \n",
    "    kernel='rbf', \n",
    "    class_weight='balanced',\n",
    "    random_state=42\n",
    ")\n",
    "\n",
    "model.fit(X_train, y_train)\n",
    "\n",
    "y_pred = model.predict(X_test)\n",
    "test_accuracy = accuracy_score(y_test, y_pred)\n",
    "train_accuracy = accuracy_score(y_train, model.predict(X_train))\n",
    "\n",
    "print(\"Train Accuracy:\", train_accuracy)\n",
    "print(\"Test Accuracy:\", test_accuracy)\n",
    "print(\"Accuracy Gap:\", train_accuracy - test_accuracy)"
   ]
  },
  {
   "cell_type": "code",
   "execution_count": 15,
   "id": "81c1dcfc",
   "metadata": {},
   "outputs": [
    {
     "name": "stdout",
     "output_type": "stream",
     "text": [
      "Train Accuracy: 1.0\n",
      "Test Accuracy: 0.7480392156862745\n",
      "Accuracy Gap: 0.2519607843137255\n"
     ]
    }
   ],
   "source": [
    "# ------------------- SVM Training -------------------\n",
    "model = SVC(\n",
    "    C=10,           # More regularization\n",
    "    gamma='scale', \n",
    "    kernel='rbf', \n",
    "    class_weight='balanced',\n",
    "    random_state=42\n",
    ")\n",
    "\n",
    "model.fit(X_train, y_train)\n",
    "\n",
    "y_pred = model.predict(X_test)\n",
    "test_accuracy = accuracy_score(y_test, y_pred)\n",
    "train_accuracy = accuracy_score(y_train, model.predict(X_train))\n",
    "\n",
    "print(\"Train Accuracy:\", train_accuracy)\n",
    "print(\"Test Accuracy:\", test_accuracy)\n",
    "print(\"Accuracy Gap:\", train_accuracy - test_accuracy)"
   ]
  },
  {
   "cell_type": "code",
   "execution_count": 17,
   "id": "ca3742aa",
   "metadata": {},
   "outputs": [
    {
     "name": "stdout",
     "output_type": "stream",
     "text": [
      "Train Accuracy: 1.0\n",
      "Test Accuracy: 0.7480392156862745\n",
      "Accuracy Gap: 0.2519607843137255\n"
     ]
    }
   ],
   "source": [
    "# ------------------- SVM Training -------------------\n",
    "model = SVC(\n",
    "    C=50,           # More regularization\n",
    "    gamma='scale', \n",
    "    kernel='rbf', \n",
    "    class_weight='balanced',\n",
    "    random_state=42\n",
    ")\n",
    "\n",
    "model.fit(X_train, y_train)\n",
    "\n",
    "y_pred = model.predict(X_test)\n",
    "test_accuracy = accuracy_score(y_test, y_pred)\n",
    "train_accuracy = accuracy_score(y_train, model.predict(X_train))\n",
    "\n",
    "print(\"Train Accuracy:\", train_accuracy)\n",
    "print(\"Test Accuracy:\", test_accuracy)\n",
    "print(\"Accuracy Gap:\", train_accuracy - test_accuracy)"
   ]
  },
  {
   "cell_type": "code",
   "execution_count": 10,
   "id": "0a79a087",
   "metadata": {},
   "outputs": [
    {
     "name": "stdout",
     "output_type": "stream",
     "text": [
      "Reduced features: 2000\n",
      "Train Accuracy: 1.0\n",
      "Test Accuracy: 0.792156862745098\n",
      "Accuracy Gap: 0.207843137254902\n"
     ]
    }
   ],
   "source": [
    "# ------------------- SVM with Feature Reduction -------------------\n",
    "from sklearn.feature_selection import SelectKBest, f_classif\n",
    "\n",
    "# Reduce to 2000 best features\n",
    "selector = SelectKBest(f_classif, k=2000)\n",
    "X_train_reduced = selector.fit_transform(X_train, y_train)\n",
    "X_test_reduced = selector.transform(X_test)\n",
    "\n",
    "print(f\"Reduced features: {X_train_reduced.shape[1]}\")\n",
    "\n",
    "model = SVC(\n",
    "    C=10,\n",
    "    gamma='scale', \n",
    "    kernel='rbf', \n",
    "    class_weight='balanced',\n",
    "    random_state=42\n",
    ")\n",
    "\n",
    "model.fit(X_train_reduced, y_train)\n",
    "\n",
    "y_pred = model.predict(X_test_reduced)\n",
    "test_accuracy = accuracy_score(y_test, y_pred)\n",
    "train_accuracy = accuracy_score(y_train, model.predict(X_train_reduced))\n",
    "\n",
    "print(\"Train Accuracy:\", train_accuracy)\n",
    "print(\"Test Accuracy:\", test_accuracy)\n",
    "print(\"Accuracy Gap:\", train_accuracy - test_accuracy)"
   ]
  },
  {
   "cell_type": "markdown",
   "id": "2b686b5a",
   "metadata": {},
   "source": [
    "#### The above model is lowest overfit so I select it for Urdu-Letter-Recognition-System"
   ]
  },
  {
   "cell_type": "code",
   "execution_count": 11,
   "id": "fd239569",
   "metadata": {},
   "outputs": [
    {
     "data": {
      "text/plain": [
       "['../models/selector.pkl']"
      ]
     },
     "execution_count": 11,
     "metadata": {},
     "output_type": "execute_result"
    }
   ],
   "source": [
    "joblib.dump(model, '../models/final_svm_model.pkl')\n",
    "joblib.dump(selector, '../models/selector.pkl')"
   ]
  },
  {
   "cell_type": "code",
   "execution_count": 25,
   "id": "224e9909",
   "metadata": {},
   "outputs": [
    {
     "name": "stdout",
     "output_type": "stream",
     "text": [
      "Reduced features: 1500\n",
      "Train Accuracy: 1.0\n",
      "Test Accuracy: 0.7892156862745098\n",
      "Accuracy Gap: 0.21078431372549022\n"
     ]
    }
   ],
   "source": [
    "# ------------------- SVM with Feature Reduction -------------------\n",
    "from sklearn.feature_selection import SelectKBest, f_classif\n",
    "\n",
    "# Reduce to 2000 best features\n",
    "selector = SelectKBest(f_classif, k=1500)\n",
    "X_train_reduced = selector.fit_transform(X_train, y_train)\n",
    "X_test_reduced = selector.transform(X_test)\n",
    "\n",
    "print(f\"Reduced features: {X_train_reduced.shape[1]}\")\n",
    "\n",
    "model = SVC(\n",
    "    C=10,\n",
    "    gamma='scale', \n",
    "    kernel='rbf', \n",
    "    class_weight='balanced',\n",
    "    random_state=42\n",
    ")\n",
    "\n",
    "model.fit(X_train_reduced, y_train)\n",
    "\n",
    "y_pred = model.predict(X_test_reduced)\n",
    "test_accuracy = accuracy_score(y_test, y_pred)\n",
    "train_accuracy = accuracy_score(y_train, model.predict(X_train_reduced))\n",
    "\n",
    "print(\"Train Accuracy:\", train_accuracy)\n",
    "print(\"Test Accuracy:\", test_accuracy)\n",
    "print(\"Accuracy Gap:\", train_accuracy - test_accuracy)"
   ]
  },
  {
   "cell_type": "code",
   "execution_count": 24,
   "id": "f7db18df",
   "metadata": {},
   "outputs": [
    {
     "name": "stdout",
     "output_type": "stream",
     "text": [
      "Reduced features: 1500\n",
      "Train Accuracy: 0.5088235294117647\n",
      "Test Accuracy: 0.36764705882352944\n",
      "Accuracy Gap: 0.14117647058823524\n",
      "🚨 Still overfitting - Accept 79% test accuracy as FINAL\n"
     ]
    }
   ],
   "source": [
    "# ------------------- STRONG REGULARIZATION -------------------\n",
    "from sklearn.feature_selection import SelectKBest, f_classif\n",
    "\n",
    "# Reduce to 1000 features only\n",
    "selector = SelectKBest(f_classif, k=1500)\n",
    "X_train_reduced = selector.fit_transform(X_train, y_train)\n",
    "X_test_reduced = selector.transform(X_test)\n",
    "\n",
    "print(f\"Reduced features: {X_train_reduced.shape[1]}\")\n",
    "\n",
    "# Strong regularization\n",
    "model = SVC(\n",
    "    C=0.1,           # Very low C\n",
    "    gamma='scale',      # Fixed gamma\n",
    "    kernel='rbf', \n",
    "    class_weight='balanced',\n",
    "    random_state=42\n",
    ")\n",
    "\n",
    "model.fit(X_train_reduced, y_train)\n",
    "\n",
    "y_pred = model.predict(X_test_reduced)\n",
    "test_accuracy = accuracy_score(y_test, y_pred)\n",
    "train_accuracy = accuracy_score(y_train, model.predict(X_train_reduced))\n",
    "\n",
    "print(\"Train Accuracy:\", train_accuracy)\n",
    "print(\"Test Accuracy:\", test_accuracy)\n",
    "print(\"Accuracy Gap:\", train_accuracy - test_accuracy)\n",
    "\n",
    "if (train_accuracy - test_accuracy) > 0.1:\n",
    "    print(\"🚨 Still overfitting - Accept 79% test accuracy as FINAL\")\n",
    "else:\n",
    "    print(\"✅ Good balance achieved!\")"
   ]
  },
  {
   "cell_type": "code",
   "execution_count": 26,
   "id": "1abc57b5",
   "metadata": {},
   "outputs": [
    {
     "name": "stdout",
     "output_type": "stream",
     "text": [
      "🔍 Training KNN...\n",
      "KNN Train Accuracy: 1.0\n",
      "KNN Test Accuracy: 0.4647058823529412\n",
      "KNN Accuracy Gap: 0.5352941176470588\n"
     ]
    }
   ],
   "source": [
    "# ------------------- KNN Training -------------------\n",
    "from sklearn.neighbors import KNeighborsClassifier\n",
    "\n",
    "knn = KNeighborsClassifier(\n",
    "    n_neighbors=5,      # Start with 5 neighbors\n",
    "    weights='distance',  # Closer neighbors matter more\n",
    "    metric='euclidean'\n",
    ")\n",
    "\n",
    "print(\"🔍 Training KNN...\")\n",
    "knn.fit(X_train_scaled, y_train)\n",
    "\n",
    "y_pred_knn = knn.predict(X_test_scaled)\n",
    "test_accuracy_knn = accuracy_score(y_test, y_pred_knn)\n",
    "train_accuracy_knn = accuracy_score(y_train, knn.predict(X_train_scaled))\n",
    "\n",
    "print(\"KNN Train Accuracy:\", train_accuracy_knn)\n",
    "print(\"KNN Test Accuracy:\", test_accuracy_knn)\n",
    "print(\"KNN Accuracy Gap:\", train_accuracy_knn - test_accuracy_knn)"
   ]
  },
  {
   "cell_type": "markdown",
   "id": "461ecaae",
   "metadata": {},
   "source": [
    "#### ANN Model Training"
   ]
  },
  {
   "cell_type": "code",
   "execution_count": 27,
   "id": "8ccadd1e",
   "metadata": {},
   "outputs": [
    {
     "name": "stdout",
     "output_type": "stream",
     "text": [
      "🧠 Training ANN (15-25 minutes expected)...\n",
      "ANN Train Accuracy: 0.9308823529411765\n",
      "ANN Test Accuracy: 0.6186274509803922\n",
      "ANN Accuracy Gap: 0.3122549019607843\n"
     ]
    }
   ],
   "source": [
    "# ------------------- ANN Training -------------------\n",
    "from sklearn.neural_network import MLPClassifier\n",
    "\n",
    "ann_model = MLPClassifier(\n",
    "    hidden_layer_sizes=(300, 150),  # Smaller architecture\n",
    "    activation='relu',\n",
    "    solver='adam',\n",
    "    alpha=0.1,         # Strong regularization\n",
    "    batch_size=128,    # Larger batches\n",
    "    learning_rate='adaptive',\n",
    "    max_iter=100,      # Fewer iterations\n",
    "    early_stopping=True,\n",
    "    validation_fraction=0.2,\n",
    "    n_iter_no_change=5,\n",
    "    random_state=42\n",
    ")\n",
    "\n",
    "print(\"🧠 Training ANN (15-25 minutes expected)...\")\n",
    "ann_model.fit(X_train_scaled, y_train)\n",
    "\n",
    "y_pred_ann = ann_model.predict(X_test_scaled)\n",
    "test_accuracy_ann = accuracy_score(y_test, y_pred_ann)\n",
    "train_accuracy_ann = accuracy_score(y_train, ann_model.predict(X_train_scaled))\n",
    "\n",
    "print(\"ANN Train Accuracy:\", train_accuracy_ann)\n",
    "print(\"ANN Test Accuracy:\", test_accuracy_ann)\n",
    "print(\"ANN Accuracy Gap:\", train_accuracy_ann - test_accuracy_ann)"
   ]
  },
  {
   "cell_type": "markdown",
   "id": "b11e0637",
   "metadata": {},
   "source": [
    "#### Visuals"
   ]
  },
  {
   "cell_type": "code",
   "execution_count": 32,
   "id": "1e12db96",
   "metadata": {},
   "outputs": [
    {
     "data": {
      "image/png": "[encoded data removed]",
      "text/plain": [
       "<Figure size 1800x1400 with 2 Axes>"
      ]
     },
     "metadata": {},
     "output_type": "display_data"
    }
   ],
   "source": [
    "plt.figure(figsize=(18, 14))\n",
    "cm = confusion_matrix(y_test, y_pred)\n",
    "sns.heatmap(cm, annot=True, fmt='d', cmap='Blues', \n",
    "            xticklabels=encoder.classes_, \n",
    "            yticklabels=encoder.classes_)\n",
    "plt.xlabel('Predicted Labels', fontsize=12, fontweight='bold')\n",
    "plt.ylabel('True Labels', fontsize=12, fontweight='bold')\n",
    "plt.title('Confusion Matrix - Urdu Handwritten Letters\\n(Test Accuracy: 79.2%)', \n",
    "          fontsize=14, fontweight='bold')\n",
    "plt.xticks(rotation=45)\n",
    "plt.yticks(rotation=0)\n",
    "plt.tight_layout()\n",
    "plt.savefig('../results/confusion_matrix.png', dpi=300, bbox_inches='tight')\n",
    "plt.show()"
   ]
  },
  {
   "cell_type": "code",
   "execution_count": 33,
   "id": "8d362e84",
   "metadata": {},
   "outputs": [
    {
     "data": {
      "image/png": "[encoded data removed]",
      "text/plain": [
       "<Figure size 800x600 with 1 Axes>"
      ]
     },
     "metadata": {},
     "output_type": "display_data"
    }
   ],
   "source": [
    "# 2. Simple Accuracy Chart\n",
    "plt.figure(figsize=(8, 6))\n",
    "accuracies = [train_accuracy, test_accuracy]\n",
    "labels = ['Train Accuracy', 'Test Accuracy']\n",
    "colors = ['lightblue', 'lightcoral']\n",
    "\n",
    "bars = plt.bar(labels, accuracies, color=colors, edgecolor='black', alpha=0.8)\n",
    "plt.ylabel('Accuracy', fontsize=12, fontweight='bold')\n",
    "plt.title('Model Performance - SVM', fontsize=14, fontweight='bold')\n",
    "plt.ylim(0, 1.1)\n",
    "\n",
    "# Add value labels on bars\n",
    "for bar, acc in zip(bars, accuracies):\n",
    "    plt.text(bar.get_x() + bar.get_width()/2, bar.get_height() + 0.02, \n",
    "             f'{acc:.3f}', ha='center', va='bottom', fontweight='bold')\n",
    "\n",
    "plt.tight_layout()\n",
    "plt.savefig('../results/accuracy_chart.png', dpi=300, bbox_inches='tight')\n",
    "plt.show()"
   ]
  }
 ],
 "metadata": {
  "kernelspec": {
   "display_name": "Python 3",
   "language": "python",
   "name": "python3"
  },
  "language_info": {
   "codemirror_mode": {
    "name": "ipython",
    "version": 3
   },
   "file_extension": ".py",
   "mimetype": "text/x-python",
   "name": "python",
   "nbconvert_exporter": "python",
   "pygments_lexer": "ipython3",
   "version": "3.14.0"
  }
 },
 "nbformat": 4,
 "nbformat_minor": 5
}
